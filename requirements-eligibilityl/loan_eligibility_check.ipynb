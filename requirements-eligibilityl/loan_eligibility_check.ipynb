{
 "cells": [
  {
   "cell_type": "code",
   "execution_count": 4,
   "id": "88820318-d3d5-4658-8bd0-d2127b2b7161",
   "metadata": {},
   "outputs": [
    {
     "name": "stdout",
     "output_type": "stream",
     "text": [
      "                Name  Age  CreditScore     Income LoanAmount EligibilityStatus\n",
      "0        Amit Sharma   28          780  520000.00   15000.00          Approved\n",
      "1         Neha Mehta   34          750  740000.00   85000.00          Approved\n",
      "2         Ravi Joshi   45          805  880000.00   32000.00          Approved\n",
      "3         Priya Nair   22          690  390000.00   45000.00          Rejected\n",
      "4        Karan Patel   31          720  610000.00   98000.00          Approved\n",
      "5     Sneha Kulkarni   27          665  460000.00   37000.00          Rejected\n",
      "6       Manish Gupta   38          795  770000.00   22000.00          Approved\n",
      "7          Divya Rao   25          710  420000.00   76000.00          Approved\n",
      "8        Vikas Verma   50          825  950000.00   54000.00          Approved\n",
      "9      Anjali Thakur   29          740  530000.00   67000.00          Approved\n",
      "10    Rohan Deshmukh   26          685  480000.00   26000.00          Rejected\n",
      "11       Meera Sinha   40          800  820000.00   88000.00          Approved\n",
      "12        Rahul Jain   35          765  690000.00   43000.00          Approved\n",
      "13      Shweta Dubey   21          675  370000.00   51000.00          Rejected\n",
      "14  Siddharth Pillai   42          810  910000.00   29000.00          Approved\n",
      "15      Tanya Saxena   23          700  410000.00   72000.00          Approved\n",
      "16       Arjun Bhatt   30          725  600000.00   83000.00          Approved\n",
      "17    Nidhi Kulkarni   28          735  540000.00   34000.00          Approved\n",
      "18     Sameer Chavan   33          760  660000.00   60000.00          Approved\n",
      "19        Isha Reddy   24          695  400000.00   20000.00          Rejected\n",
      "20       Harsh Joshi   36          755  730000.00   39000.00          Approved\n",
      "21    Pooja Aggarwal   39          790  800000.00   75000.00          Approved\n",
      "22         Yash Naik   22          680  390000.00   47000.00          Rejected\n",
      "23       Ritika Kaur   31          730  620000.00   61000.00          Approved\n",
      "24     Nikhil Bansal   29          745  550000.00   18000.00          Approved\n",
      "25       Deepika Sen   26          670  470000.00   94000.00          Rejected\n",
      "26        Aditya Dey   37          785  750000.00   33000.00          Approved\n",
      "27      Kavita Mohan   43          810  870000.00   56000.00          Approved\n",
      "28    Abhay Malhotra   32          740  640000.00   68000.00          Approved\n",
      "29        Smita Iyer   21          660  360000.00   25000.00          Rejected\n",
      "30      Ankur Tiwari   44          820  890000.00   99000.00          Approved\n",
      "31    Madhuri Bhagat   27          705  490000.00   38000.00          Approved\n",
      "32       Vivek Raina   41          795  840000.00   44000.00          Approved\n",
      "33       Komal Pawar   25          715  430000.00   52000.00          Approved\n",
      "34       Dhruv Rawat   30          725  610000.00   30000.00          Approved\n",
      "35       Roshni Vyas   23          690  390000.00   81000.00          Rejected\n",
      "36   Ashwin Kulkarni   48          835  920000.00   58000.00          Approved\n",
      "37      Namrata Shah   35          770  700000.00   27000.00          Approved\n",
      "38      Mohit Kapoor   28          750  560000.00   62000.00          Approved\n",
      "39   Bhavna Tripathi   33          765  680000.00   35000.00          Approved\n"
     ]
    }
   ],
   "source": [
    "import mysql.connector\n",
    "import pandas as pd\n",
    "\n",
    "# Connect to MySQL Server\n",
    "conn = mysql.connector.connect(\n",
    "    host=\"localhost\",        # or '127.0.0.1'\n",
    "    user=\"root\",\n",
    "    password=\"tejnk14\",\n",
    "    database=\"loan_system\"\n",
    ")\n",
    "cursor = conn.cursor()\n",
    "\n",
    "# Run SQL Eligibility Query\n",
    "query = \"\"\"\n",
    "SELECT \n",
    "    c.Name,\n",
    "    c.Age,\n",
    "    ch.CreditScore,\n",
    "    c.Income,\n",
    "    l.LoanAmount,\n",
    "    CASE\n",
    "        WHEN c.Age >= 21 AND ch.CreditScore >= 700 AND c.Income >= (l.LoanAmount * 0.4)\n",
    "        THEN 'Approved'\n",
    "        ELSE 'Rejected'\n",
    "    END AS EligibilityStatus\n",
    "FROM Customers c\n",
    "JOIN CreditHistory ch ON c.CustomerID = ch.CustomerID\n",
    "JOIN LoanApplications l ON c.CustomerID = l.CustomerID;\n",
    "\"\"\"\n",
    "\n",
    "cursor.execute(query)\n",
    "rows = cursor.fetchall()\n",
    "\n",
    "# Display results using pandas\n",
    "columns = ['Name', 'Age', 'CreditScore', 'Income', 'LoanAmount', 'EligibilityStatus']\n",
    "df = pd.DataFrame(rows, columns=columns)\n",
    "print(df)\n",
    "\n",
    "conn.close()\n"
   ]
  },
  {
   "cell_type": "code",
   "execution_count": 5,
   "id": "5fc588b9-8603-4c96-a8d8-7a0957f9ad05",
   "metadata": {},
   "outputs": [
    {
     "name": "stdout",
     "output_type": "stream",
     "text": [
      "     Status  TotalApplications\n",
      "0  Approved                 31\n",
      "1  Rejected                  9\n"
     ]
    }
   ],
   "source": [
    "summary = df['EligibilityStatus'].value_counts().reset_index()\n",
    "summary.columns = ['Status', 'TotalApplications']\n",
    "print(summary)\n"
   ]
  },
  {
   "cell_type": "code",
   "execution_count": null,
   "id": "a1bbae9d-54ee-4962-8f87-743292b4d042",
   "metadata": {},
   "outputs": [],
   "source": []
  }
 ],
 "metadata": {
  "kernelspec": {
   "display_name": "Python 3 (ipykernel)",
   "language": "python",
   "name": "python3"
  },
  "language_info": {
   "codemirror_mode": {
    "name": "ipython",
    "version": 3
   },
   "file_extension": ".py",
   "mimetype": "text/x-python",
   "name": "python",
   "nbconvert_exporter": "python",
   "pygments_lexer": "ipython3",
   "version": "3.13.5"
  }
 },
 "nbformat": 4,
 "nbformat_minor": 5
}
